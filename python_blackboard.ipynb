{
 "cells": [
  {
   "cell_type": "code",
   "execution_count": 5,
   "metadata": {},
   "outputs": [
    {
     "name": "stderr",
     "output_type": "stream",
     "text": [
      "<function pow10 at 0x11012f0d0>: 1005.0251483917236 ms\n"
     ]
    },
    {
     "data": {
      "text/plain": [
       "100000000000000000000"
      ]
     },
     "execution_count": 5,
     "metadata": {},
     "output_type": "execute_result"
    }
   ],
   "source": [
    "# Python Time Counter\n",
    "import functools\n",
    "import logging\n",
    "import time\n",
    "\n",
    "def timed(logger, level=None, format='%s: %s ms'):\n",
    "    if level is None:\n",
    "        level = logging.DEBUG\n",
    "\n",
    "    def decorator(fn):\n",
    "        @functools.wraps(fn)\n",
    "        def inner(*args, **kwargs):\n",
    "            start = time.time()\n",
    "            result = fn(*args, **kwargs)\n",
    "            duration = time.time() - start\n",
    "            logger.log(level, format, repr(fn), duration * 1000)\n",
    "            return result\n",
    "        return inner\n",
    "\n",
    "    return decorator\n",
    "\n",
    "import logging, time\n",
    "\n",
    "\n",
    "logger = logging.getLogger()\n",
    "logger.setLevel(logging.DEBUG)\n",
    "\n",
    "handler = logging.StreamHandler()\n",
    "handler.setLevel(logging.DEBUG)\n",
    "logger.addHandler(handler)\n",
    "\n",
    "@timed(logger)\n",
    "def pow10(x):\n",
    "    time.sleep(1)\n",
    "    return x ** 10\n",
    "\n",
    "# will log: <function pow10 at 0x107847230>: 1001.08790398 ms\n",
    "pow10(100)\n"
   ]
  },
  {
   "cell_type": "code",
   "execution_count": null,
   "metadata": {},
   "outputs": [],
   "source": []
  }
 ],
 "metadata": {
  "interpreter": {
   "hash": "f22a20af907fde35ff19e1e892fdb271353fb19b11c7ebd774491472e685293c"
  },
  "kernelspec": {
   "display_name": "Python 3.9.7 64-bit",
   "language": "python",
   "name": "python3"
  },
  "language_info": {
   "codemirror_mode": {
    "name": "ipython",
    "version": 3
   },
   "file_extension": ".py",
   "mimetype": "text/x-python",
   "name": "python",
   "nbconvert_exporter": "python",
   "pygments_lexer": "ipython3",
   "version": "3.9.7"
  },
  "orig_nbformat": 4
 },
 "nbformat": 4,
 "nbformat_minor": 2
}
